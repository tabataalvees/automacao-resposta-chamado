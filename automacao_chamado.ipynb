{
 "cells": [
  {
   "cell_type": "code",
   "execution_count": null,
   "metadata": {},
   "outputs": [],
   "source": [
    "# pip install pandas"
   ]
  },
  {
   "cell_type": "code",
   "execution_count": 68,
   "metadata": {},
   "outputs": [],
   "source": [
    "import pandas as pd\n",
    "from datetime import datetime"
   ]
  },
  {
   "cell_type": "code",
   "execution_count": 182,
   "metadata": {},
   "outputs": [
    {
     "name": "stdout",
     "output_type": "stream",
     "text": [
      "  grupo solicitante data_de_liberacao  status  tempo\n",
      "0     A        João        2024-01-15  Em Uso      7\n",
      "1     B      Camila        2024-05-20    None      3\n",
      "2     C       Maria        2024-05-03  Em Uso      3\n",
      "3     D      Carlos        2024-06-01  Em Uso      2\n",
      "4     E       Joana        2024-07-25    None      1\n"
     ]
    }
   ],
   "source": [
    "# Dados de exemplo\n",
    "dados = {\n",
    "    'grupo': ['A', 'B', 'C', 'D', 'E'],\n",
    "    'solicitante': ['João', 'Camila', 'Maria', 'Carlos', 'Joana'],\n",
    "    'data_de_liberacao': ['2024-01-15', '2024-05-20', '2024-05-03', '2024-06-01', '2024-07-25'],\n",
    "    'status': ['Em Uso', None, 'Em Uso', 'Em Uso', None]\n",
    "}\n",
    "\n",
    "# Função para calcular a diferença em meses\n",
    "def calcular_tempo(data_liberacao):\n",
    "    data_liberacao = datetime.strptime(data_liberacao, '%Y-%m-%d')\n",
    "    data_atual = datetime.now()\n",
    "    diferenca = (data_atual.year - data_liberacao.year) * 12 + data_atual.month - data_liberacao.month\n",
    "    return diferenca\n",
    "\n",
    "# Adicionando a coluna 'tempo'\n",
    "dados['tempo'] = [calcular_tempo(data) for data in dados['data_de_liberacao']]\n",
    "\n",
    "# Criando o DataFrame\n",
    "df = pd.DataFrame(dados)\n",
    "\n",
    "# Exibindo o DataFrame\n",
    "print(df)\n"
   ]
  },
  {
   "cell_type": "code",
   "execution_count": 185,
   "metadata": {},
   "outputs": [
    {
     "data": {
      "text/plain": [
       "'B'"
      ]
     },
     "execution_count": 185,
     "metadata": {},
     "output_type": "execute_result"
    }
   ],
   "source": [
    "def grupo_disponivel(df):\n",
    "    available_groups = df[(df['solicitante'].isnull() | df['status'].isnull()) | (df['tempo'] >= 2) & (df['grupo'].isnull())]['grupo'].values\n",
    "    if len(available_groups) > 0:\n",
    "        return available_groups[0]\n",
    "    return None\n",
    "\n",
    "grupo_disponivel(df)"
   ]
  },
  {
   "cell_type": "code",
   "execution_count": 184,
   "metadata": {},
   "outputs": [
    {
     "data": {
      "text/html": [
       "<div>\n",
       "<style scoped>\n",
       "    .dataframe tbody tr th:only-of-type {\n",
       "        vertical-align: middle;\n",
       "    }\n",
       "\n",
       "    .dataframe tbody tr th {\n",
       "        vertical-align: top;\n",
       "    }\n",
       "\n",
       "    .dataframe thead th {\n",
       "        text-align: right;\n",
       "    }\n",
       "</style>\n",
       "<table border=\"1\" class=\"dataframe\">\n",
       "  <thead>\n",
       "    <tr style=\"text-align: right;\">\n",
       "      <th></th>\n",
       "      <th>grupo</th>\n",
       "      <th>solicitante</th>\n",
       "      <th>data_de_liberacao</th>\n",
       "      <th>status</th>\n",
       "      <th>tempo</th>\n",
       "    </tr>\n",
       "  </thead>\n",
       "  <tbody>\n",
       "    <tr>\n",
       "      <th>0</th>\n",
       "      <td>A</td>\n",
       "      <td>João</td>\n",
       "      <td>2024-01-15</td>\n",
       "      <td>Em Uso</td>\n",
       "      <td>7</td>\n",
       "    </tr>\n",
       "    <tr>\n",
       "      <th>1</th>\n",
       "      <td>B</td>\n",
       "      <td>Camila</td>\n",
       "      <td>2024-05-20</td>\n",
       "      <td>None</td>\n",
       "      <td>3</td>\n",
       "    </tr>\n",
       "    <tr>\n",
       "      <th>2</th>\n",
       "      <td>C</td>\n",
       "      <td>Maria</td>\n",
       "      <td>2024-05-03</td>\n",
       "      <td>Em Uso</td>\n",
       "      <td>3</td>\n",
       "    </tr>\n",
       "    <tr>\n",
       "      <th>3</th>\n",
       "      <td>D</td>\n",
       "      <td>Carlos</td>\n",
       "      <td>2024-06-01</td>\n",
       "      <td>Em Uso</td>\n",
       "      <td>2</td>\n",
       "    </tr>\n",
       "    <tr>\n",
       "      <th>4</th>\n",
       "      <td>E</td>\n",
       "      <td>Joana</td>\n",
       "      <td>2024-07-25</td>\n",
       "      <td>None</td>\n",
       "      <td>1</td>\n",
       "    </tr>\n",
       "  </tbody>\n",
       "</table>\n",
       "</div>"
      ],
      "text/plain": [
       "  grupo solicitante data_de_liberacao  status  tempo\n",
       "0     A        João        2024-01-15  Em Uso      7\n",
       "1     B      Camila        2024-05-20    None      3\n",
       "2     C       Maria        2024-05-03  Em Uso      3\n",
       "3     D      Carlos        2024-06-01  Em Uso      2\n",
       "4     E       Joana        2024-07-25    None      1"
      ]
     },
     "execution_count": 184,
     "metadata": {},
     "output_type": "execute_result"
    }
   ],
   "source": [
    "df"
   ]
  },
  {
   "cell_type": "code",
   "execution_count": 186,
   "metadata": {},
   "outputs": [],
   "source": [
    "def recalcular_tempo():\n",
    "    df['tempo'] = df['data_de_liberacao'].apply(calcular_tempo)"
   ]
  },
  {
   "cell_type": "code",
   "execution_count": 187,
   "metadata": {},
   "outputs": [
    {
     "data": {
      "text/html": [
       "<div>\n",
       "<style scoped>\n",
       "    .dataframe tbody tr th:only-of-type {\n",
       "        vertical-align: middle;\n",
       "    }\n",
       "\n",
       "    .dataframe tbody tr th {\n",
       "        vertical-align: top;\n",
       "    }\n",
       "\n",
       "    .dataframe thead th {\n",
       "        text-align: right;\n",
       "    }\n",
       "</style>\n",
       "<table border=\"1\" class=\"dataframe\">\n",
       "  <thead>\n",
       "    <tr style=\"text-align: right;\">\n",
       "      <th></th>\n",
       "      <th>grupo</th>\n",
       "      <th>solicitante</th>\n",
       "      <th>data_de_liberacao</th>\n",
       "      <th>status</th>\n",
       "      <th>tempo</th>\n",
       "    </tr>\n",
       "  </thead>\n",
       "  <tbody>\n",
       "    <tr>\n",
       "      <th>0</th>\n",
       "      <td>A</td>\n",
       "      <td>João</td>\n",
       "      <td>2024-01-15</td>\n",
       "      <td>Em Uso</td>\n",
       "      <td>7</td>\n",
       "    </tr>\n",
       "    <tr>\n",
       "      <th>1</th>\n",
       "      <td>B</td>\n",
       "      <td>Camila</td>\n",
       "      <td>2024-05-20</td>\n",
       "      <td>None</td>\n",
       "      <td>3</td>\n",
       "    </tr>\n",
       "    <tr>\n",
       "      <th>2</th>\n",
       "      <td>C</td>\n",
       "      <td>Maria</td>\n",
       "      <td>2024-05-03</td>\n",
       "      <td>Em Uso</td>\n",
       "      <td>3</td>\n",
       "    </tr>\n",
       "    <tr>\n",
       "      <th>3</th>\n",
       "      <td>D</td>\n",
       "      <td>Carlos</td>\n",
       "      <td>2024-06-01</td>\n",
       "      <td>Em Uso</td>\n",
       "      <td>2</td>\n",
       "    </tr>\n",
       "    <tr>\n",
       "      <th>4</th>\n",
       "      <td>E</td>\n",
       "      <td>Joana</td>\n",
       "      <td>2024-07-25</td>\n",
       "      <td>None</td>\n",
       "      <td>1</td>\n",
       "    </tr>\n",
       "  </tbody>\n",
       "</table>\n",
       "</div>"
      ],
      "text/plain": [
       "  grupo solicitante data_de_liberacao  status  tempo\n",
       "0     A        João        2024-01-15  Em Uso      7\n",
       "1     B      Camila        2024-05-20    None      3\n",
       "2     C       Maria        2024-05-03  Em Uso      3\n",
       "3     D      Carlos        2024-06-01  Em Uso      2\n",
       "4     E       Joana        2024-07-25    None      1"
      ]
     },
     "execution_count": 187,
     "metadata": {},
     "output_type": "execute_result"
    }
   ],
   "source": [
    "df"
   ]
  },
  {
   "cell_type": "code",
   "execution_count": 188,
   "metadata": {},
   "outputs": [],
   "source": [
    "def upload_dados_novo():\n",
    "    datalab = grupo_disponivel() \n",
    "\n",
    "    index = df[df['grupo'] == datalab].index[0]\n",
    "\n",
    "    # Atualizar as colunas para as linhas que atendem às condições\n",
    "    df.at[index, 'solicitante'] = 'Jucicleide'\n",
    "    df.at[index, 'data_de_liberacao'] = '2024-08-08'"
   ]
  },
  {
   "cell_type": "code",
   "execution_count": 189,
   "metadata": {},
   "outputs": [
    {
     "data": {
      "text/html": [
       "<div>\n",
       "<style scoped>\n",
       "    .dataframe tbody tr th:only-of-type {\n",
       "        vertical-align: middle;\n",
       "    }\n",
       "\n",
       "    .dataframe tbody tr th {\n",
       "        vertical-align: top;\n",
       "    }\n",
       "\n",
       "    .dataframe thead th {\n",
       "        text-align: right;\n",
       "    }\n",
       "</style>\n",
       "<table border=\"1\" class=\"dataframe\">\n",
       "  <thead>\n",
       "    <tr style=\"text-align: right;\">\n",
       "      <th></th>\n",
       "      <th>grupo</th>\n",
       "      <th>solicitante</th>\n",
       "      <th>data_de_liberacao</th>\n",
       "      <th>status</th>\n",
       "      <th>tempo</th>\n",
       "    </tr>\n",
       "  </thead>\n",
       "  <tbody>\n",
       "    <tr>\n",
       "      <th>0</th>\n",
       "      <td>A</td>\n",
       "      <td>João</td>\n",
       "      <td>2024-01-15</td>\n",
       "      <td>Em Uso</td>\n",
       "      <td>7</td>\n",
       "    </tr>\n",
       "    <tr>\n",
       "      <th>1</th>\n",
       "      <td>B</td>\n",
       "      <td>Camila</td>\n",
       "      <td>2024-05-20</td>\n",
       "      <td>None</td>\n",
       "      <td>3</td>\n",
       "    </tr>\n",
       "    <tr>\n",
       "      <th>2</th>\n",
       "      <td>C</td>\n",
       "      <td>Maria</td>\n",
       "      <td>2024-05-03</td>\n",
       "      <td>Em Uso</td>\n",
       "      <td>3</td>\n",
       "    </tr>\n",
       "    <tr>\n",
       "      <th>3</th>\n",
       "      <td>D</td>\n",
       "      <td>Carlos</td>\n",
       "      <td>2024-06-01</td>\n",
       "      <td>Em Uso</td>\n",
       "      <td>2</td>\n",
       "    </tr>\n",
       "    <tr>\n",
       "      <th>4</th>\n",
       "      <td>E</td>\n",
       "      <td>Joana</td>\n",
       "      <td>2024-07-25</td>\n",
       "      <td>None</td>\n",
       "      <td>1</td>\n",
       "    </tr>\n",
       "  </tbody>\n",
       "</table>\n",
       "</div>"
      ],
      "text/plain": [
       "  grupo solicitante data_de_liberacao  status  tempo\n",
       "0     A        João        2024-01-15  Em Uso      7\n",
       "1     B      Camila        2024-05-20    None      3\n",
       "2     C       Maria        2024-05-03  Em Uso      3\n",
       "3     D      Carlos        2024-06-01  Em Uso      2\n",
       "4     E       Joana        2024-07-25    None      1"
      ]
     },
     "execution_count": 189,
     "metadata": {},
     "output_type": "execute_result"
    }
   ],
   "source": [
    "df"
   ]
  },
  {
   "cell_type": "code",
   "execution_count": 202,
   "metadata": {},
   "outputs": [],
   "source": [
    "def validar_grupo(df, grupo):\n",
    "\n",
    "    grupo = grupo_disponivel(df)\n",
    "    \n",
    "    if df.loc[df['grupo'] == grupo, 'solicitante'].values[0]:\n",
    "        if df.loc[df['grupo'] == grupo, 'tempo'].values[0] > 2:\n",
    "            df.loc[df['grupo'] == grupo, 'status'] = 'Em Uso'\n",
    "            return False\n",
    "    else:\n",
    "        upload_dados_novo()\n",
    "        recalcular_tempo()\n",
    "        return True\n",
    "      "
   ]
  },
  {
   "cell_type": "code",
   "execution_count": 211,
   "metadata": {},
   "outputs": [
    {
     "data": {
      "text/html": [
       "<div>\n",
       "<style scoped>\n",
       "    .dataframe tbody tr th:only-of-type {\n",
       "        vertical-align: middle;\n",
       "    }\n",
       "\n",
       "    .dataframe tbody tr th {\n",
       "        vertical-align: top;\n",
       "    }\n",
       "\n",
       "    .dataframe thead th {\n",
       "        text-align: right;\n",
       "    }\n",
       "</style>\n",
       "<table border=\"1\" class=\"dataframe\">\n",
       "  <thead>\n",
       "    <tr style=\"text-align: right;\">\n",
       "      <th></th>\n",
       "      <th>grupo</th>\n",
       "      <th>solicitante</th>\n",
       "      <th>data_de_liberacao</th>\n",
       "      <th>status</th>\n",
       "      <th>tempo</th>\n",
       "    </tr>\n",
       "  </thead>\n",
       "  <tbody>\n",
       "    <tr>\n",
       "      <th>0</th>\n",
       "      <td>A</td>\n",
       "      <td>João</td>\n",
       "      <td>2024-01-15</td>\n",
       "      <td>Em Uso</td>\n",
       "      <td>7</td>\n",
       "    </tr>\n",
       "    <tr>\n",
       "      <th>1</th>\n",
       "      <td>B</td>\n",
       "      <td>Camila</td>\n",
       "      <td>2024-05-20</td>\n",
       "      <td>Em Uso</td>\n",
       "      <td>3</td>\n",
       "    </tr>\n",
       "    <tr>\n",
       "      <th>2</th>\n",
       "      <td>C</td>\n",
       "      <td>Maria</td>\n",
       "      <td>2024-05-03</td>\n",
       "      <td>Em Uso</td>\n",
       "      <td>3</td>\n",
       "    </tr>\n",
       "    <tr>\n",
       "      <th>3</th>\n",
       "      <td>D</td>\n",
       "      <td>Carlos</td>\n",
       "      <td>2024-06-01</td>\n",
       "      <td>Em Uso</td>\n",
       "      <td>2</td>\n",
       "    </tr>\n",
       "    <tr>\n",
       "      <th>4</th>\n",
       "      <td>E</td>\n",
       "      <td>Joana</td>\n",
       "      <td>2024-07-25</td>\n",
       "      <td>None</td>\n",
       "      <td>1</td>\n",
       "    </tr>\n",
       "  </tbody>\n",
       "</table>\n",
       "</div>"
      ],
      "text/plain": [
       "  grupo solicitante data_de_liberacao  status  tempo\n",
       "0     A        João        2024-01-15  Em Uso      7\n",
       "1     B      Camila        2024-05-20  Em Uso      3\n",
       "2     C       Maria        2024-05-03  Em Uso      3\n",
       "3     D      Carlos        2024-06-01  Em Uso      2\n",
       "4     E       Joana        2024-07-25    None      1"
      ]
     },
     "execution_count": 211,
     "metadata": {},
     "output_type": "execute_result"
    }
   ],
   "source": [
    "df"
   ]
  },
  {
   "cell_type": "code",
   "execution_count": 210,
   "metadata": {},
   "outputs": [],
   "source": [
    "def encontrar_grupo_disponivel(df):\n",
    "    for grupo in df['grupo']:\n",
    "        if validar_grupo(df, grupo):\n",
    "            return grupo\n",
    "    return None\n",
    "\n",
    "# Exemplo de uso\n",
    "encontrar_grupo_disponivel(df)\n"
   ]
  },
  {
   "cell_type": "code",
   "execution_count": 146,
   "metadata": {},
   "outputs": [
    {
     "ename": "IndexError",
     "evalue": "index 0 is out of bounds for axis 0 with size 0",
     "output_type": "error",
     "traceback": [
      "\u001b[0;31m---------------------------------------------------------------------------\u001b[0m",
      "\u001b[0;31mIndexError\u001b[0m                                Traceback (most recent call last)",
      "Cell \u001b[0;32mIn[146], line 12\u001b[0m\n\u001b[1;32m      9\u001b[0m     \u001b[38;5;28;01melse\u001b[39;00m:\n\u001b[1;32m     10\u001b[0m         \u001b[38;5;28mprint\u001b[39m(\u001b[38;5;124m\"\u001b[39m\u001b[38;5;124mO DataFrame está vazio.\u001b[39m\u001b[38;5;124m\"\u001b[39m)\n\u001b[0;32m---> 12\u001b[0m existeGrupo()\n",
      "Cell \u001b[0;32mIn[146], line 3\u001b[0m, in \u001b[0;36mexisteGrupo\u001b[0;34m()\u001b[0m\n\u001b[1;32m      1\u001b[0m \u001b[38;5;28;01mdef\u001b[39;00m \u001b[38;5;21mexisteGrupo\u001b[39m():\n\u001b[1;32m      2\u001b[0m     \u001b[38;5;28;01mif\u001b[39;00m \u001b[38;5;129;01mnot\u001b[39;00m df\u001b[38;5;241m.\u001b[39mempty:\n\u001b[0;32m----> 3\u001b[0m         grupo_datalab \u001b[38;5;241m=\u001b[39m encontrar_grupo_disponivel(df)\n\u001b[1;32m      4\u001b[0m         \u001b[38;5;28;01mif\u001b[39;00m grupo_datalab:\n\u001b[1;32m      5\u001b[0m             comments \u001b[38;5;241m=\u001b[39m \u001b[38;5;124mf\u001b[39m\u001b[38;5;124m\"\u001b[39m\u001b[38;5;124mO grupo \u001b[39m\u001b[38;5;132;01m{\u001b[39;00mgrupo_datalab\u001b[38;5;132;01m}\u001b[39;00m\u001b[38;5;124m foi liberado para uso do usuário, por favor, seguir a documentação:\u001b[39m\u001b[38;5;130;01m\\n\u001b[39;00m\u001b[38;5;124m    teste.com.br\u001b[39m\u001b[38;5;124m\"\u001b[39m\n",
      "Cell \u001b[0;32mIn[142], line 3\u001b[0m, in \u001b[0;36mencontrar_grupo_disponivel\u001b[0;34m(df)\u001b[0m\n\u001b[1;32m      1\u001b[0m \u001b[38;5;28;01mdef\u001b[39;00m \u001b[38;5;21mencontrar_grupo_disponivel\u001b[39m(df):\n\u001b[1;32m      2\u001b[0m     \u001b[38;5;28;01mfor\u001b[39;00m grupo \u001b[38;5;129;01min\u001b[39;00m df[\u001b[38;5;124m'\u001b[39m\u001b[38;5;124mgrupo\u001b[39m\u001b[38;5;124m'\u001b[39m]:\n\u001b[0;32m----> 3\u001b[0m         \u001b[38;5;28;01mif\u001b[39;00m validar_grupo(df, grupo):\n\u001b[1;32m      4\u001b[0m             \u001b[38;5;28;01mreturn\u001b[39;00m grupo\n\u001b[1;32m      5\u001b[0m     \u001b[38;5;28;01mreturn\u001b[39;00m \u001b[38;5;28;01mNone\u001b[39;00m\n",
      "Cell \u001b[0;32mIn[141], line 7\u001b[0m, in \u001b[0;36mvalidar_grupo\u001b[0;34m(df, grupo)\u001b[0m\n\u001b[1;32m      5\u001b[0m     \u001b[38;5;28;01mreturn\u001b[39;00m \u001b[38;5;28;01mFalse\u001b[39;00m\n\u001b[1;32m      6\u001b[0m \u001b[38;5;28;01melse\u001b[39;00m:\n\u001b[0;32m----> 7\u001b[0m     upload_dados_novo()\n\u001b[1;32m      8\u001b[0m     recalcular_tempo()\n\u001b[1;32m      9\u001b[0m     \u001b[38;5;28;01mreturn\u001b[39;00m \u001b[38;5;28;01mTrue\u001b[39;00m\n",
      "Cell \u001b[0;32mIn[139], line 2\u001b[0m, in \u001b[0;36mupload_dados_novo\u001b[0;34m()\u001b[0m\n\u001b[1;32m      1\u001b[0m \u001b[38;5;28;01mdef\u001b[39;00m \u001b[38;5;21mupload_dados_novo\u001b[39m():\n\u001b[0;32m----> 2\u001b[0m     datalab \u001b[38;5;241m=\u001b[39m grupo_disponivel() \n\u001b[1;32m      4\u001b[0m     index \u001b[38;5;241m=\u001b[39m df[df[\u001b[38;5;124m'\u001b[39m\u001b[38;5;124mgrupo\u001b[39m\u001b[38;5;124m'\u001b[39m] \u001b[38;5;241m==\u001b[39m datalab]\u001b[38;5;241m.\u001b[39mindex[\u001b[38;5;241m0\u001b[39m]\n\u001b[1;32m      6\u001b[0m     \u001b[38;5;66;03m# Atualizar as colunas para as linhas que atendem às condições\u001b[39;00m\n",
      "Cell \u001b[0;32mIn[136], line 2\u001b[0m, in \u001b[0;36mgrupo_disponivel\u001b[0;34m()\u001b[0m\n\u001b[1;32m      1\u001b[0m \u001b[38;5;28;01mdef\u001b[39;00m \u001b[38;5;21mgrupo_disponivel\u001b[39m():\n\u001b[0;32m----> 2\u001b[0m     \u001b[38;5;28;01mreturn\u001b[39;00m df[(df[\u001b[38;5;124m'\u001b[39m\u001b[38;5;124msolicitante\u001b[39m\u001b[38;5;124m'\u001b[39m]\u001b[38;5;241m.\u001b[39misnull() \u001b[38;5;241m|\u001b[39m df[\u001b[38;5;124m'\u001b[39m\u001b[38;5;124mstatus\u001b[39m\u001b[38;5;124m'\u001b[39m]\u001b[38;5;241m.\u001b[39misnull()) \u001b[38;5;241m&\u001b[39m (df[\u001b[38;5;124m'\u001b[39m\u001b[38;5;124mtempo\u001b[39m\u001b[38;5;124m'\u001b[39m] \u001b[38;5;241m>\u001b[39m\u001b[38;5;241m=\u001b[39m \u001b[38;5;241m2\u001b[39m)][\u001b[38;5;124m'\u001b[39m\u001b[38;5;124mgrupo\u001b[39m\u001b[38;5;124m'\u001b[39m]\u001b[38;5;241m.\u001b[39mvalues[\u001b[38;5;241m0\u001b[39m]\n",
      "\u001b[0;31mIndexError\u001b[0m: index 0 is out of bounds for axis 0 with size 0"
     ]
    }
   ],
   "source": [
    "def existeGrupo():\n",
    "    if not df.empty:\n",
    "        grupo_datalab = encontrar_grupo_disponivel(df)\n",
    "        if grupo_datalab:\n",
    "            comments = f\"O grupo {grupo_datalab} foi liberado para uso do usuário, por favor, seguir a documentação:\\n    teste.com.br\"\n",
    "            print(comments)\n",
    "        else:\n",
    "            print(\"Nenhum grupo disponível foi encontrado.\")\n",
    "    else:\n",
    "        print(\"O DataFrame está vazio.\")\n",
    "\n",
    "existeGrupo()\n"
   ]
  },
  {
   "cell_type": "code",
   "execution_count": 147,
   "metadata": {},
   "outputs": [
    {
     "data": {
      "text/html": [
       "<div>\n",
       "<style scoped>\n",
       "    .dataframe tbody tr th:only-of-type {\n",
       "        vertical-align: middle;\n",
       "    }\n",
       "\n",
       "    .dataframe tbody tr th {\n",
       "        vertical-align: top;\n",
       "    }\n",
       "\n",
       "    .dataframe thead th {\n",
       "        text-align: right;\n",
       "    }\n",
       "</style>\n",
       "<table border=\"1\" class=\"dataframe\">\n",
       "  <thead>\n",
       "    <tr style=\"text-align: right;\">\n",
       "      <th></th>\n",
       "      <th>grupo</th>\n",
       "      <th>solicitante</th>\n",
       "      <th>data_de_liberacao</th>\n",
       "      <th>status</th>\n",
       "      <th>tempo</th>\n",
       "    </tr>\n",
       "  </thead>\n",
       "  <tbody>\n",
       "    <tr>\n",
       "      <th>0</th>\n",
       "      <td>A</td>\n",
       "      <td>João</td>\n",
       "      <td>2024-01-15</td>\n",
       "      <td>Em Uso</td>\n",
       "      <td>7</td>\n",
       "    </tr>\n",
       "    <tr>\n",
       "      <th>1</th>\n",
       "      <td>B</td>\n",
       "      <td>Camila</td>\n",
       "      <td>2024-08-08</td>\n",
       "      <td>None</td>\n",
       "      <td>0</td>\n",
       "    </tr>\n",
       "    <tr>\n",
       "      <th>2</th>\n",
       "      <td>C</td>\n",
       "      <td>Maria</td>\n",
       "      <td>2024-05-03</td>\n",
       "      <td>Em Uso</td>\n",
       "      <td>3</td>\n",
       "    </tr>\n",
       "    <tr>\n",
       "      <th>3</th>\n",
       "      <td>D</td>\n",
       "      <td>Carlos</td>\n",
       "      <td>2024-06-01</td>\n",
       "      <td>Em Uso</td>\n",
       "      <td>2</td>\n",
       "    </tr>\n",
       "    <tr>\n",
       "      <th>4</th>\n",
       "      <td>E</td>\n",
       "      <td></td>\n",
       "      <td>2024-07-25</td>\n",
       "      <td>None</td>\n",
       "      <td>1</td>\n",
       "    </tr>\n",
       "  </tbody>\n",
       "</table>\n",
       "</div>"
      ],
      "text/plain": [
       "  grupo solicitante data_de_liberacao  status  tempo\n",
       "0     A        João        2024-01-15  Em Uso      7\n",
       "1     B      Camila        2024-08-08    None      0\n",
       "2     C       Maria        2024-05-03  Em Uso      3\n",
       "3     D      Carlos        2024-06-01  Em Uso      2\n",
       "4     E                    2024-07-25    None      1"
      ]
     },
     "execution_count": 147,
     "metadata": {},
     "output_type": "execute_result"
    }
   ],
   "source": [
    "df"
   ]
  }
 ],
 "metadata": {
  "kernelspec": {
   "display_name": "Python 3 (ipykernel)",
   "language": "python",
   "name": "python3"
  },
  "language_info": {
   "codemirror_mode": {
    "name": "ipython",
    "version": 3
   },
   "file_extension": ".py",
   "mimetype": "text/x-python",
   "name": "python",
   "nbconvert_exporter": "python",
   "pygments_lexer": "ipython3",
   "version": "3.12.4"
  }
 },
 "nbformat": 4,
 "nbformat_minor": 2
}
